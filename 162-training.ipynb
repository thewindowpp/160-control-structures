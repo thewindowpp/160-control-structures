{
 "cells": [
  {
   "cell_type": "markdown",
   "id": "d8903c3f",
   "metadata": {},
   "source": [
    "# 1.6 Training Lab – Designing and Writing Control Structures\n",
    "Use this training lab to practise writing pseudocode and translating it into Python. Refer back to the Operations Manual if you're unsure about any structure."
   ]
  },
  {
   "cell_type": "markdown",
   "id": "5742fb02",
   "metadata": {},
   "source": [
    "## 1. Warm-up: Sequence only\n",
    "**Task:**\n",
    "Write pseudocode to ask for the user's name and display a welcome message.\n",
    "**Now write the Python code below:**"
   ]
  },
  {
   "cell_type": "code",
   "execution_count": null,
   "id": "e5c4e67e",
   "metadata": {},
   "outputs": [],
   "source": [
    "# Your Python code here\n",
    "name = input(\"Enter your name: \")\n",
    "print(\"Welcome, \" + name)"
   ]
  },
  {
   "cell_type": "markdown",
   "id": "f4ad1c38",
   "metadata": {},
   "source": [
    "## 2. Binary selection\n",
    "**Task:**\n",
    "Write pseudocode that checks if a number is positive or negative.\n",
    "Translate it into Python."
   ]
  },
  {
   "cell_type": "code",
   "execution_count": null,
   "id": "b7169b6e",
   "metadata": {},
   "outputs": [],
   "source": [
    "# Your Python code here"
   ]
  },
  {
   "cell_type": "markdown",
   "id": "1377d3ff",
   "metadata": {},
   "source": [
    "## 3. Multi-way selection\n",
    "**Task:**\n",
    "Write a grading system in pseudocode with the following rules:\n",
    "- 90 and above: A\n",
    "- 80–89: B\n",
    "- 70–79: C\n",
    "- below 70: Needs improvement\n",
    "**Then write it in Python:**"
   ]
  },
  {
   "cell_type": "code",
   "execution_count": null,
   "id": "43139782",
   "metadata": {},
   "outputs": [],
   "source": [
    "# Your Python code here"
   ]
  },
  {
   "cell_type": "markdown",
   "id": "b29224d5",
   "metadata": {},
   "source": [
    "## 4. Pre-test loop\n",
    "**Task:**\n",
    "Write pseudocode for a loop that continues asking for a password until the correct one is entered.\n",
    "**Then write the equivalent `while` loop in Python:**"
   ]
  },
  {
   "cell_type": "code",
   "execution_count": null,
   "id": "f206930a",
   "metadata": {},
   "outputs": [],
   "source": [
    "# Your Python code here"
   ]
  },
  {
   "cell_type": "markdown",
   "id": "94966070",
   "metadata": {},
   "source": [
    "## 5. Post-test loop (simulated)\n",
    "**Task:**\n",
    "Write pseudocode using `REPEAT...UNTIL` for a guessing game.\n",
    "**Then simulate it in Python using `while True` and `break`:"
   ]
  },
  {
   "cell_type": "code",
   "execution_count": null,
   "id": "87e6034a",
   "metadata": {},
   "outputs": [],
   "source": [
    "# Your Python code here"
   ]
  },
  {
   "cell_type": "markdown",
   "id": "f59dd53b",
   "metadata": {},
   "source": [
    "## 6. Counted loop with condition\n",
    "**Task:**\n",
    "Write pseudocode for a loop that runs from 0 to 10 but skips even numbers.\n",
    "**Then implement it in Python:**"
   ]
  },
  {
   "cell_type": "code",
   "execution_count": null,
   "id": "53ac4ecc",
   "metadata": {},
   "outputs": [],
   "source": [
    "# Your Python code here"
   ]
  },
  {
   "cell_type": "markdown",
   "id": "084e2b5c",
   "metadata": {},
   "source": [
    "## 7. Combined logic challenge\n",
    "**Task:**\n",
    "Plan an algorithm using selection and repetition. For example:\n",
    "- Ask for three names\n",
    "- Skip blank entries\n",
    "- Greet each valid name\n",
    "**Write pseudocode first, then code:**"
   ]
  },
  {
   "cell_type": "code",
   "execution_count": null,
   "id": "cfc7651e",
   "metadata": {},
   "outputs": [],
   "source": [
    "# Your Python code here"
   ]
  },
  {
   "cell_type": "markdown",
   "id": "4de95b74",
   "metadata": {},
   "source": [
    "## 8. Reflection and exit task\n",
    "**Question:** When would you use each control structure? Add a short summary below:"
   ]
  },
  {
   "cell_type": "markdown",
   "id": "2aecb12a",
   "metadata": {},
   "source": [
    "_Type your answer here_"
   ]
  }
 ],
 "metadata": {},
 "nbformat": 4,
 "nbformat_minor": 5
}

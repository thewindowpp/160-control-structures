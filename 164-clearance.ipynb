{
 "cells": [
  {
   "cell_type": "markdown",
   "id": "53e976ce",
   "metadata": {},
   "source": [
    "## 1. Explain in your own words what a control structure is and why it is essential in programming.\n",
    "\n",
    "_Write your answer here._"
   ]
  },
  {
   "cell_type": "markdown",
   "id": "36807dbe",
   "metadata": {},
   "source": [
    "## 2. Describe the difference between sequence, selection, and repetition. Give an example of each in pseudocode.\n",
    "\n",
    "_Write your answer here._"
   ]
  },
  {
   "cell_type": "markdown",
   "id": "246f6384",
   "metadata": {},
   "source": [
    "## 3. Write pseudocode for a simple program that checks if a number is positive, negative, or zero and outputs a message accordingly.\n",
    "\n",
    "_Write your answer here._"
   ]
  },
  {
   "cell_type": "markdown",
   "id": "91714b04",
   "metadata": {},
   "source": [
    "## 4. Translate your pseudocode from Question 3 into Python code.\n",
    "\n",
    "_Write your answer here._"
   ]
  },
  {
   "cell_type": "markdown",
   "id": "cb68db8a",
   "metadata": {},
   "source": [
    "## 5. What is the difference between a binary selection and a multi-way selection? Provide a pseudocode example for each.\n",
    "\n",
    "_Write your answer here._"
   ]
  },
  {
   "cell_type": "markdown",
   "id": "25a78288",
   "metadata": {},
   "source": [
    "## 6. Write a Python `if-elif-else` structure that assigns a grade (A, B, C, D, F) based on a numeric score.\n",
    "\n",
    "_Write your answer here._"
   ]
  },
  {
   "cell_type": "markdown",
   "id": "841aab04",
   "metadata": {},
   "source": [
    "## 7. Explain when you would use a `while` loop versus a `for` loop. Give an example scenario for each.\n",
    "\n",
    "_Write your answer here._"
   ]
  },
  {
   "cell_type": "markdown",
   "id": "94641803",
   "metadata": {},
   "source": [
    "## 8. Write pseudocode for a loop that asks the user to enter numbers until they enter -1, then outputs the total sum.\n",
    "\n",
    "_Write your answer here._"
   ]
  },
  {
   "cell_type": "markdown",
   "id": "5799a71f",
   "metadata": {},
   "source": [
    "## 9. Convert the pseudocode from Question 8 into Python code.\n",
    "\n",
    "_Write your answer here._"
   ]
  },
  {
   "cell_type": "markdown",
   "id": "d233d06a",
   "metadata": {},
   "source": [
    "## 10. What is a post-test loop, and how can you simulate it in Python? Provide a small code example.\n",
    "\n",
    "_Write your answer here._"
   ]
  },
  {
   "cell_type": "markdown",
   "id": "fa691d19",
   "metadata": {},
   "source": [
    "## 11. Describe how `break` and `continue` work in Python loops. Provide a short code snippet using each.\n",
    "\n",
    "_Write your answer here._"
   ]
  },
  {
   "cell_type": "markdown",
   "id": "ac350c90",
   "metadata": {},
   "source": [
    "## 12. Write pseudocode for a menu-driven program that loops until the user chooses to exit. Include at least three menu options.\n",
    "\n",
    "_Write your answer here._"
   ]
  },
  {
   "cell_type": "markdown",
   "id": "2c385abb",
   "metadata": {},
   "source": [
    "## 13. Translate your pseudocode from Question 12 into Python code.\n",
    "\n",
    "_Write your answer here._"
   ]
  },
  {
   "cell_type": "markdown",
   "id": "b289873b",
   "metadata": {},
   "source": [
    "## 14. What are common errors to look for when testing control structures? List at least three and explain how to check for them.\n",
    "\n",
    "_Write your answer here._"
   ]
  },
  {
   "cell_type": "markdown",
   "id": "ed605bed",
   "metadata": {},
   "source": [
    "## 15. Reflect on how writing pseudocode and flowcharts before coding can improve your problem-solving and debugging skills.\n",
    "\n",
    "_Write your answer here._"
   ]
  }
 ],
 "metadata": {
  "kernelspec": {
   "display_name": "Python 3 (ipykernel)",
   "language": "python",
   "name": "python3"
  },
  "language_info": {
   "codemirror_mode": {
    "name": "ipython",
    "version": 3
   },
   "file_extension": ".py",
   "mimetype": "text/x-python",
   "name": "python",
   "nbconvert_exporter": "python",
   "pygments_lexer": "ipython3",
   "version": "3.12.6"
  }
 },
 "nbformat": 4,
 "nbformat_minor": 5
}

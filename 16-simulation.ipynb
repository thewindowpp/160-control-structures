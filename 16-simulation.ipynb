{
 "cells": [
  {
   "cell_type": "markdown",
   "id": "1b6a1971",
   "metadata": {},
   "source": [
    "# 1.6 Simulation: Applying Control Structures\n",
    "In this simulation, you will apply your understanding of **sequence**, **selection**, and **repetition** to design and implement a working Python solution. This activity builds directly on Tutorials 120.4A and 120.4B.\n",
    "\n",
    "**Deliverables:**\n",
    "- Pseudocode for your solution\n",
    "- A flowchart showing control flow\n",
    "- A working Python implementation\n",
    "- Reflection on your design and testing process"
   ]
  },
  {
   "cell_type": "markdown",
   "id": "a34b0203",
   "metadata": {},
   "source": [
    "## Scenario\n",
    "Design a **menu-based program** for a simple virtual vending machine. The user should be able to:\n",
    "- View available items (at least 3 choices)\n",
    "- Select an item or exit the program\n",
    "- Confirm or cancel their selection\n",
    "- Repeat until they choose to exit\n",
    "\n",
    "You will need to use **multi-way selection** and **loops** to handle this simulation."
   ]
  },
  {
   "cell_type": "markdown",
   "id": "a5b36a65",
   "metadata": {},
   "source": [
    "## Step 1: Pseudocode\n",
    "Write the pseudocode for your solution below."
   ]
  },
  {
   "cell_type": "markdown",
   "id": "9ebc1e06",
   "metadata": {},
   "source": [
    "_Write your pseudocode here._"
   ]
  },
  {
   "cell_type": "markdown",
   "id": "21fbacee",
   "metadata": {},
   "source": [
    "## Step 2: Flowchart\n",
    "Provide a flowchart showing your program's logic. You can create it using an online tool (e.g., Lucidchart, draw.io) and include a link or attach the image."
   ]
  },
  {
   "cell_type": "markdown",
   "id": "a94a13a2",
   "metadata": {},
   "source": [
    "_Insert or link your flowchart here._"
   ]
  },
  {
   "cell_type": "markdown",
   "id": "c80ec30b",
   "metadata": {},
   "source": [
    "## Step 3: Python implementation\n",
    "Translate your pseudocode into Python code. Make sure to test all paths, including cancellation and exit options."
   ]
  },
  {
   "cell_type": "code",
   "execution_count": null,
   "id": "95939d57",
   "metadata": {},
   "outputs": [],
   "source": [
    "# Your Python code here"
   ]
  },
  {
   "cell_type": "markdown",
   "id": "8e903f76",
   "metadata": {},
   "source": [
    "## Step 4: Reflection\n",
    "Answer the following questions:\n",
    "- What control structures did you use, and why?\n",
    "- How did you ensure your code handled invalid inputs?\n",
    "- How did writing pseudocode and a flowchart help you implement the solution?\n"
   ]
  },
  {
   "cell_type": "markdown",
   "id": "f2f2cd95",
   "metadata": {},
   "source": [
    "_Write your reflection here._"
   ]
  }
 ],
 "metadata": {},
 "nbformat": 4,
 "nbformat_minor": 5
}
